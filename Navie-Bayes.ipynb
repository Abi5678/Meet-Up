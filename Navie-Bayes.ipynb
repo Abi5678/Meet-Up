new_data_mem <- read.csv("test.csv", stringsAsFactors = F, na.strings = "")
table(new_data_mem$topic_id)
new_data_mem<-na.omit(new_data_mem)
is.na(new_data_mem)
str(new_data_mem)
new_data_mem<-new_data_mem[-1]

new_data_mem$topicBinned <- cut(new_data_mem$topic_id, 
                              breaks = c(0,200,500,1000,2000,10000,max(new_data_mem$topic_id)), 
                              labels = c("0-200", "200-500", "500-1000", "1000-2000", "2000-10000", "10000+"))

new_data_mem$groupBinned <- cut(new_data_mem$group_id, 
                                breaks = c(0,1000000,1500000,2000000,5000000,10000000,15000000,20000000,max(new_data_mem$group_id)), 
                                labels = c("0-1000000","1000000-1500000","1500000-2000000", "2000000-5000000", "5000000-10000000", "10000000-15000000", "15000000-20000000", "20000000+"))

new_data_mem$member_id <- NULL
new_data_mem$group_id <- NULL
new_data_mem$topic_id <- NULL
new_data_mem$event_id <- NULL
new_data_mem$category_id <- as.factor(new_data_mem$category_id)

set.seed(1337)
index.nb <- sample(1:dim(new_data_mem)[1], dim(new_data_mem)[1] * .80, replace=FALSE)
NB_training <- new_data_mem[index.nb, ]
NB_testing <- new_data_mem[-index.nb, ]

install.packages("e1071")
library(e1071)
NB <- naiveBayes(category_id~., data = NB_training)
NB
PR <- predict(NB, newdata = NB_testing)
confusionMatrix(PR, NB_testing$category_id, positive = "Yes")
