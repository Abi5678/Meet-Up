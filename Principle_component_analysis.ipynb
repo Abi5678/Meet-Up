new_data_mem <- read.csv("D:/lab_adm/final/Main/test.csv", stringsAsFactors = F, na.strings = "")
table(new_data_mem$topic_id)
new_data_mem<-na.omit(new_data_mem)
is.na(new_data_mem)
str(new_data_mem)
new_data_mem<-new_data_mem[-1]
#principle component analysis
p_data<-new_data_mem[,2:4]
prin_model<-princomp(p_data[-3])
summary(prin_model)
prin_model$loadings
prin_model$scores
screeplot(prin_model)
 
new_data_svm<-new_data_mem[sample(1:nrow(new_data_mem), 10000, replace=FALSE),]
new_data_svm<-new_data_svm[,2:4]
new_data_svm$category_id<-factor(new_data_svm$category_id,levels = c(1,2,18),labels = c("Arts & Culture","Career & Business","Book Clubs"))
table(new_data_svm$category_id)
library(ggplot2)
qplot(topic_id,group_id,data=new_data_svm,color=category_id)
library(e1071)
split = sample.split(new_data_svm$category_id, SplitRatio = 0.75)
training_set = subset(new_data_svm, split == TRUE)
test_set = subset(new_data_svm, split == FALSE)
testmodel<-svm(category_id ~. ,data =training_set)
summary(testmodel)
plot(testmodel, data =training_set)
test_pred<-predict(testmodel,test_set[-3])
summary(test_pred)
plot(test_pred)
#confusion_matrix
tab<-table(predicted=test_pred,test_set$category_id)
tab
miss_classi_rate <- 1-sum(diag(tab))/sum(tab)
miss_classi_rate # 0.300
 
prediction_rate<-1-miss_classi_rate
print(prediction_rate) #70%
#tuning
 
set.seed(123)
tmodel <- tune(svm,category_id~.,data=test_set,
               ranges = list(epsilon=seq(0,1,0.1),cost=2^(2:4)))
 
plot(tmodel)
summary(tmodel)
mymodel<-tmodel$best.model
mymodel
