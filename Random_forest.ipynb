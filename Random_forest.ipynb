library(caTools)
set.seed(123)
new_data_RF<-new_data_mem[sample(1:nrow(new_data_mem), 10000, replace=FALSE),]
new_data_RF<-new_data_RF[,2:4]
new_data_RF$category_id<-factor(new_data_RF$category_id,levels = c(1,2,18),labels = c("Arts & Culture","Career & Business","Book Clubs"))
table(new_data_RF$category_id)
 
split = sample.split(new_data_RF$category_id, SplitRatio = 0.75)
training_set = subset(new_data_RF, split == TRUE)
test_set = subset(new_data_RF, split == FALSE)
 
library(randomForest)
set.seed(222) #to make it repeatable
rf_model<-randomForest(category_id ~., data=training_set)
print(rf_model)
# Type of random forest: classification
#Number of trees: 500
#No. of variables tried at each split: 1
#OOB estimate of  error rate: 13.05%
attributes(rf_model)
rf_model$confusion
 
# pridiction and confusion matrix -train data
 
library(caret)
p1<-predict(rf_model,training_set)
head(p1)
head(training_set$category_id)
confusionMatrix(p1,training_set$category_id)

# prediction and confusion matrix on test data
 
p2<-predict(rf_model,test_set)
confusionMatrix(p2,test_set$category_id)

#error rate of random forest
 
plot(rf_model)
 
#tune mtry
 
t_rf<- tuneRF(training_set[,-3],training_set[,3], stepFactor = 0.5,plot = TRUE,ntreeTry = 100,
       trace = TRUE, improve = 0.03)
 
rf_model_t<-randomForest(category_id ~., data=training_set, ntree=300, mtry =2,
                         importance =TRUE, proximity = TRUE )
print(rf_model_t)
#OOB estimate of  error rate: 1.47% ,  error rate is reduced from 13.4 % to 1.47%
p2<-predict(rf_model_t,test_set)
confusionMatrix(p2,test_set$category_id)


plot(rf_model_t)
 
#no of nodes for the trees
 
hist(treesize(rf_model),main="No. of nodes for the trees",col="blue")
 
hist(treesize(rf_model_t),main="No. of nodes for the trees",col="blue")
 
# variable importance
 
varImpPlot(rf_model_t)
 
importance(rf_model_t)
 
# partial dependency plots
 
partialPlot(rf_model_t,training_set,group_id,"Career & Business")
 
partialPlot(rf_model_t,training_set,group_id,"Arts & Culture")
 
partialPlot(rf_model_t,training_set,topic_id,"Career & Business")
 
partialPlot(rf_model_t,training_set,topic_id,"Arts & Culture")
 
 
#extract from single tree
 
getTree(rf_model,1,labelVar = TRUE)
 
#suspecting the prediction in negative values
