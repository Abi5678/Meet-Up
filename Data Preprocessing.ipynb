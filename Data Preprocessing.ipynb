setwd("D:/lab_adm");
members<-read.csv("members.csv", stringsAsFactors = F, na.strings = "")
members_topics <- read.csv("members_topics.csv", stringsAsFactors = F, na.strings = "")
str(members)
groups<-read.csv("groups.csv", stringsAsFactors = F, na.strings = "")
events <- read.csv("events.csv", stringsAsFactors = F, na.strings = "")
events_data<-events
events_data<-data.frame(events$event_id,events$group_id)
str(events_data)
str(members)
events_data$category_id<-groups$category_id[match(events$group_id,groups$group_id)]
members$topic_id<-members_topics$topic_id[match(members$member_id,members_topics$member_id)]
new_data_mem<-data.frame(members$member_id,members$group_id,members$topic_id)
new_data_mem$category_id<-groups$category_id[match(new_data_mem$members.group_id,groups$group_id)]
new_data_mem$event_id<-events$event_id[match(new_data_mem$members.group_id,events$group_id)]
str(new_data_mem)
colnames(new_data_mem)<-c("member_id","group_id","topic_id","category_id","event_id")
write.csv(new_data_mem,file='test.csv')
new_data_mem <- read.csv("D:/lab_adm/final/Main/test.csv", stringsAsFactors = F, na.strings = "")
 
